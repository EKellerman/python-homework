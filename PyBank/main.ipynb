{
 "metadata": {
  "language_info": {
   "codemirror_mode": {
    "name": "ipython",
    "version": 3
   },
   "file_extension": ".py",
   "mimetype": "text/x-python",
   "name": "python",
   "nbconvert_exporter": "python",
   "pygments_lexer": "ipython3",
   "version": "3.8.5-final"
  },
  "orig_nbformat": 2,
  "kernelspec": {
   "name": "Python 3.8.5 64-bit",
   "display_name": "Python 3.8.5 64-bit",
   "metadata": {
    "interpreter": {
     "hash": "aee8b7b246df8f9039afb4144a1f6fd8d2ca17a180786b69acc140d282b71a49"
    }
   }
  }
 },
 "nbformat": 4,
 "nbformat_minor": 2,
 "cells": [
  {
   "cell_type": "code",
   "execution_count": 1,
   "metadata": {},
   "outputs": [],
   "source": [
    "# Import csv\n",
    "\n",
    "from pathlib import Path\n",
    "import csv"
   ]
  },
  {
   "cell_type": "code",
   "execution_count": 25,
   "metadata": {},
   "outputs": [],
   "source": [
    "# Set filepath\n",
    "\n",
    "filepath = Path(\"../Resources/budget_data.csv\")\n"
   ]
  },
  {
   "cell_type": "code",
   "execution_count": 26,
   "metadata": {},
   "outputs": [],
   "source": [
    "# Create lists\n",
    "\n",
    "total_months = []\n",
    "total_profit = []\n",
    "monthly_profit_changes = []\n"
   ]
  },
  {
   "cell_type": "code",
   "execution_count": 31,
   "metadata": {
    "tags": []
   },
   "outputs": [
    {
     "output_type": "stream",
     "name": "stdout",
     "text": "['Date', 'Profit/Losses']\n"
    }
   ],
   "source": [
    "# Open the csv file as an object\n",
    "with open(filepath, newline = \"\") as csvfile:\n",
    "\n",
    "# Pass in the csv file to the scv.reader() function\n",
    "    csvreader = csv.reader(csvfile, delimiter = \",\")\n",
    "\n",
    "    csv_header = next(csvreader)\n",
    "    print(csv_header)\n",
    "\n",
    "    for row in csvreader:\n",
    "        # Append the total months and total profit\n",
    "         total_months.append(row[0])\n",
    "         total_profit.append(int(row[1]))\n",
    "\n",
    "    # Monthly changes in profits\n",
    "    for i in range(len(total_profit)-1):\n",
    "\n",
    "        monthly_profit_changes.append(total_profit[i+1]-total_profit[i])\n",
    "\n",
    "\n",
    "\n"
   ]
  },
  {
   "cell_type": "code",
   "execution_count": 33,
   "metadata": {},
   "outputs": [],
   "source": [
    "# Max and min of the monthly profit change\n",
    "max_increase_value = max(monthly_profit_changes)\n",
    "max_decrease_value = min(monthly_profit_changes)"
   ]
  },
  {
   "cell_type": "code",
   "execution_count": 34,
   "metadata": {},
   "outputs": [],
   "source": [
    "# Max and min using month list and index\n",
    "max_increase_month = monthly_profit_changes.index(max(monthly_profit_changes)) + 1\n",
    "max_decrease_month = monthly_profit_changes.index(min(monthly_profit_changes)) + 1\n"
   ]
  },
  {
   "cell_type": "code",
   "execution_count": 36,
   "metadata": {
    "tags": []
   },
   "outputs": [
    {
     "output_type": "stream",
     "name": "stdout",
     "text": "Financial Analysis\n-------------------\nTotal Months: 172\nTotal: $76765156\nAverage Change: -1150.79\nGreatest Increase in Profits: Feb-2012 ($1926159)\nGreatest Decrease in Profits: Sep-2013 ($-2196167)\n"
    }
   ],
   "source": [
    "# Display Statements\n",
    "\n",
    "print(\"Financial Analysis\")\n",
    "print(\"-------------------\")\n",
    "print(f\"Total Months: {len(total_months)}\")\n",
    "print(f\"Total: ${sum(total_profit)}\")\n",
    "print(f\"Average Change: {round(sum(monthly_profit_changes)/len(monthly_profit_changes),2)}\")\n",
    "print(f\"Greatest Increase in Profits: {total_months[max_increase_month]} (${(str(max_increase_value))})\")\n",
    "print(f\"Greatest Decrease in Profits: {total_months[max_decrease_month]} (${(str(max_decrease_value))})\")"
   ]
  },
  {
   "cell_type": "code",
   "execution_count": 41,
   "metadata": {},
   "outputs": [],
   "source": [
    "# Export text file\n",
    "output_statement = Path(\"Python-homework\")\n",
    "with open(output_statement,\"w\") as file:\n",
    "\n",
    "    file.write(\"Financial Analysis\")\n",
    "    file.write(\"-------------------\")\n",
    "    file.write(f\"Total Months: {len(total_months)}\")\n",
    "    file.write(f\"Total: ${sum(total_profit)}\")\n",
    "    file.write(f\"Average Change: {round(sum(monthly_profit_changes)/len(monthly_profit_changes),2)}\")\n",
    "    file.write(f\"Greatest Increase in Profits: {total_months[max_increase_month]} (${(str(max_increase_value))})\")\n",
    "    file.write(f\"Greatest Decrease in Profits: {total_months[max_decrease_month]} (${(str(max_decrease_value))})\")\n"
   ]
  },
  {
   "cell_type": "code",
   "execution_count": null,
   "metadata": {},
   "outputs": [],
   "source": []
  }
 ]
}